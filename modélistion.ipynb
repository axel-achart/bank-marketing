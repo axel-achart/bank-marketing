{
 "cells": [
  {
   "cell_type": "markdown",
   "id": "8c2bcbe6",
   "metadata": {},
   "source": [
    "# Modélisation avec PyCaret – Bank Marketing\n",
    "\n",
    "Ce notebook utilise la bibliothèque PyCaret pour créer un modèle de classification visant à prédire si un client va souscrire à un dépôt à terme ou non (`y`).\n"
   ]
  },
  {
   "cell_type": "markdown",
   "id": "a31bf274",
   "metadata": {},
   "source": [
    "## Importation des modules et des données nettoyées"
   ]
  },
  {
   "cell_type": "code",
   "execution_count": null,
   "id": "cee78ac3",
   "metadata": {},
   "outputs": [],
   "source": [
    "from pycaret.classification import *\n",
    "import pandas as pd\n",
    "\n",
    "\n",
    "# Recharger les données (ou utiliser le df_clean du notebook précédent si tu le lies)\n",
    "df = pd.read_csv(\"data/bank_marketing/bank/bank.csv\", sep=';')\n",
    "\n",
    "# Nettoyage rapide : remplacer 'unknown' par NaN\n",
    "df.replace('unknown', pd.NA, inplace=True)\n",
    "\n",
    "# Supprimer les lignes incomplètes\n",
    "df = df.dropna()\n",
    "\n",
    "# Vérifions le type de la cible\n",
    "df['y'].value_counts()"
   ]
  },
  {
   "cell_type": "markdown",
   "id": "838fd53a",
   "metadata": {},
   "source": [
    "## Initialisation de l’environnement PyCaret"
   ]
  },
  {
   "cell_type": "code",
   "execution_count": null,
   "id": "f4430244",
   "metadata": {},
   "outputs": [],
   "source": [
    "clf = setup(\n",
    "    data=df,\n",
    "    target='y',\n",
    "    session_id=42,\n",
    "    verbose=False,\n",
    "    categorical_features=['job', 'marital', 'education', 'default',\n",
    "                          'housing', 'loan', 'contact', 'month', 'poutcome']\n",
    ")"
   ]
  },
  {
   "cell_type": "markdown",
   "id": "90d11aaf",
   "metadata": {},
   "source": [
    "Lorsque tu exécutes setup(), PyCaret fait automatiquement :\n",
    "\n",
    "La détection des types de colonnes (numérique, texte, booléen…)\n",
    "\n",
    "Le prétraitement :\n",
    "\n",
    "Encodage des colonnes catégorielles\n",
    "\n",
    "Suppression/Imputation des valeurs manquantes\n",
    "\n",
    "Séparation du jeu d'entraînement et de test\n",
    "\n",
    "L'affichage du résumé des données traitées\n",
    "\n",
    "La sauvegarde de cette \"expérience\" pour les étapes suivantes\n",
    "\n"
   ]
  },
  {
   "cell_type": "markdown",
   "id": "ac91c576",
   "metadata": {},
   "source": [
    "## Comparaison automatique des modèles\n",
    "\n",
    "PyCaret va tester plein de modèles (logistic regression, decision tree, random forest, etc.) et afficher leurs performances, en particulier l’accuracy."
   ]
  },
  {
   "cell_type": "code",
   "execution_count": null,
   "id": "4baca9ac",
   "metadata": {},
   "outputs": [],
   "source": [
    "# Comparer les modèles automatiquement\n",
    "best_model = compare_models()"
   ]
  },
  {
   "cell_type": "markdown",
   "id": "2d0a56f7",
   "metadata": {},
   "source": [
    "## Ce que fait le programme :\n",
    "Entraîne tous les modèles de classification disponibles\n",
    "\n",
    "Affiche un tableau de comparaison avec des métriques comme :\n",
    "\n",
    "Accuracy (précision globale)\n",
    "\n",
    "AUC (performance sur les classes)\n",
    "\n",
    "Recall, Precision, etc.\n",
    "\n",
    "Sauvegarde le meilleur modèle dans la variable best_model"
   ]
  },
  {
   "cell_type": "markdown",
   "id": "157c808b",
   "metadata": {},
   "source": [
    "## Résultats de la comparaison\n",
    "\n",
    "Le tableau affiche les performances de tous les modèles testés automatiquement par PyCaret.  \n",
    "Le modèle ayant la **meilleure accuracy** est sélectionné.  \n",
    "Cela signifie qu'il prédit correctement la plus grande proportion de \"yes\" ou \"no\".\n"
   ]
  },
  {
   "cell_type": "markdown",
   "id": "227ce35d",
   "metadata": {},
   "source": [
    "## Affichage du meilleur modèle"
   ]
  },
  {
   "cell_type": "code",
   "execution_count": null,
   "id": "ab7c969e",
   "metadata": {},
   "outputs": [],
   "source": [
    "# Afficher les détails du meilleur modèle\n",
    "print(best_model)"
   ]
  },
  {
   "cell_type": "markdown",
   "id": "c9741487",
   "metadata": {},
   "source": [
    "## Visualiser les métriques du modèle"
   ]
  },
  {
   "cell_type": "markdown",
   "id": "abe78079",
   "metadata": {},
   "source": [
    "### Objectif : visualiser les erreurs du modèle"
   ]
  },
  {
   "cell_type": "code",
   "execution_count": null,
   "id": "cdf66739",
   "metadata": {},
   "outputs": [],
   "source": [
    "plot_model(best_model, plot='confusion_matrix')"
   ]
  },
  {
   "cell_type": "markdown",
   "id": "a2e50979",
   "metadata": {},
   "source": [
    "Un tableau 2x2 qui compare les vraies réponses avec les prédictions du modèle :\n",
    "\n",
    "|                                          | Prédit \"no\"           | Prédit \"yes\"          |\n",
    "| ---------------------------------------- | --------------------- | --------------------- |\n",
    "| **Vrai \"no\"** (clients qui ont refusé)   |  Vrais négatifs (TN) |  Faux positifs (FP)  |\n",
    "| **Vrai \"yes\"** (clients qui ont accepté) |  Faux négatifs (FN)  |  Vrais positifs (TP) |\n"
   ]
  },
  {
   "cell_type": "markdown",
   "id": "751d1443",
   "metadata": {},
   "source": [
    "Interprétation :\n",
    "- Les \"vrais positifs\" = bien prédits comme \"yes\"\n",
    "\n",
    "- Les \"faux négatifs\" = le modèle a dit \"no\" alors que c’était \"yes\" → mauvais pour une campagne marketing !\n",
    "\n",
    "Le modèle est meilleur s’il a :\n",
    "\n",
    "peu de FN (ne pas rater des clients intéressés)\n",
    "\n",
    "un bon équilibre entre TP et TN"
   ]
  },
  {
   "cell_type": "markdown",
   "id": "1f96ca3a",
   "metadata": {},
   "source": [
    "\n",
    "### Objectif : mesurer la capacité de séparation entre \"yes\" et \"no\""
   ]
  },
  {
   "cell_type": "code",
   "execution_count": null,
   "id": "dffc1cd1",
   "metadata": {},
   "outputs": [],
   "source": [
    "plot_model(best_model, plot='auc') "
   ]
  },
  {
   "cell_type": "markdown",
   "id": "365c4018",
   "metadata": {},
   "source": [
    "C’est la courbe ROC (Receiver Operating Characteristic). L’AUC (area under the curve) donne une note de 0 à 1 :\n",
    "\n",
    " AUC = 1.0 = parfait\n",
    "\n",
    " AUC > 0.8 = très bon\n",
    "\n",
    " AUC ≈ 0.5 = modèle aléatoire"
   ]
  },
  {
   "cell_type": "markdown",
   "id": "0bbf25ac",
   "metadata": {},
   "source": [
    "### interprétation :\n",
    "\n",
    "- Si la courbe est en haut à gauche, le modèle sépare bien les clients intéressés des non intéressés.\n",
    "\n",
    "- L’AUC est moins influencée par les déséquilibres de classes que l’accuracy."
   ]
  },
  {
   "cell_type": "markdown",
   "id": "61d92a64",
   "metadata": {},
   "source": [
    "\n",
    "### Objectif : voir quelles variables influencent le plus les prédictions"
   ]
  },
  {
   "cell_type": "code",
   "execution_count": null,
   "id": "eb38a144",
   "metadata": {},
   "outputs": [],
   "source": [
    "plot_model(best_model, plot='feature')"
   ]
  },
  {
   "cell_type": "markdown",
   "id": "f30a5967",
   "metadata": {},
   "source": [
    "### Analyse des variables importantes (Feature Importance)\n",
    "\n",
    "Le graphique montre que la variable `duration` est la plus influente dans les décisions du modèle.  \n",
    "Cela signifie que les clients ayant eu de longs appels sont plus susceptibles de souscrire à l’offre.  \n",
    "Les résultats des campagnes précédentes (`poutcome`) et le canal de communication (`contact`) sont aussi très prédictifs.\n",
    "\n",
    "En revanche, des variables comme l’âge ou le niveau d’éducation ont un impact plus faible dans ce modèle.\n"
   ]
  },
  {
   "cell_type": "markdown",
   "id": "55732578",
   "metadata": {},
   "source": [
    "### Objectif: voir comment le modèle apprend à mesure qu'on lui donne plus de données"
   ]
  },
  {
   "cell_type": "code",
   "execution_count": null,
   "id": "74b5a790",
   "metadata": {},
   "outputs": [],
   "source": [
    "plot_model(best_model, plot='learning')"
   ]
  },
  {
   "cell_type": "markdown",
   "id": "9b155023",
   "metadata": {},
   "source": [
    "### Analyse de la courbe d'apprentissage\n",
    "\n",
    "Le graphe montre que la performance du modèle augmente avec plus de données, puis se stabilise.  \n",
    "Les courbes d'entraînement et de validation sont proches, ce qui indique une bonne généralisation.  \n",
    "Cela signifie que le modèle n’est pas en situation de surapprentissage, et qu’il est capable de faire de bonnes prédictions sur de nouvelles données.\n"
   ]
  },
  {
   "cell_type": "markdown",
   "id": "e789b09d",
   "metadata": {},
   "source": [
    "## Prédictions sur de nouvelles données"
   ]
  },
  {
   "cell_type": "code",
   "execution_count": null,
   "id": "6c22a74e",
   "metadata": {},
   "outputs": [],
   "source": [
    "# Créer un modèle final\n",
    "final_model = finalize_model(best_model)\n",
    "\n",
    "# Exemple de prédiction sur quelques lignes\n",
    "predictions = predict_model(final_model, data=df.sample(5))\n",
    "predictions"
   ]
  },
  {
   "cell_type": "markdown",
   "id": "4077fd39",
   "metadata": {},
   "source": [
    "## Conclusion\n",
    "\n",
    "Grâce à PyCaret, nous avons :\n",
    "- testé plusieurs modèles de classification,\n",
    "- sélectionné automatiquement le modèle avec la meilleure performance,\n",
    "- évalué sa précision (accuracy) et sa robustesse.\n",
    "\n",
    "Ce modèle peut maintenant être utilisé pour prédire si de nouveaux clients vont souscrire à une offre ou non.\n"
   ]
  }
 ],
 "metadata": {
  "kernelspec": {
   "display_name": ".venv",
   "language": "python",
   "name": "python3"
  },
  "language_info": {
   "codemirror_mode": {
    "name": "ipython",
    "version": 3
   },
   "file_extension": ".py",
   "mimetype": "text/x-python",
   "name": "python",
   "nbconvert_exporter": "python",
   "pygments_lexer": "ipython3",
   "version": "3.9.6"
  }
 },
 "nbformat": 4,
 "nbformat_minor": 5
}
