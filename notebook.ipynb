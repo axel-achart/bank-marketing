{
 "cells": [
  {
   "cell_type": "markdown",
   "id": "90517b51",
   "metadata": {},
   "source": [
    "# Bank Marketing Projet - Kylliann, Hippolyte, Axel\n",
    "\n",
    "1. Introduction\n",
    "2. Procédé de développment de l'outil de prédiction (Nettoyage, Analyse exploratoire, Modélisation des données)\n",
    "3. Réponse à la problématique\n",
    "4. Conclusion"
   ]
  }
 ],
 "metadata": {
  "language_info": {
   "name": "python"
  }
 },
 "nbformat": 4,
 "nbformat_minor": 5
}
